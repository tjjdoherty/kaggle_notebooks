{
 "cells": [
  {
   "cell_type": "code",
   "execution_count": 1,
   "id": "8550ccd2",
   "metadata": {
    "_cell_guid": "b1076dfc-b9ad-4769-8c92-a6c4dae69d19",
    "_uuid": "8f2839f25d086af736a60e9eeb907d3b93b6e0e5",
    "execution": {
     "iopub.execute_input": "2024-03-25T00:04:01.066088Z",
     "iopub.status.busy": "2024-03-25T00:04:01.065471Z",
     "iopub.status.idle": "2024-03-25T00:04:03.371756Z",
     "shell.execute_reply": "2024-03-25T00:04:03.370653Z"
    },
    "papermill": {
     "duration": 2.326933,
     "end_time": "2024-03-25T00:04:03.374231",
     "exception": false,
     "start_time": "2024-03-25T00:04:01.047298",
     "status": "completed"
    },
    "tags": []
   },
   "outputs": [
    {
     "name": "stdout",
     "output_type": "stream",
     "text": [
      "/kaggle/input/titanic/train.csv\n",
      "/kaggle/input/titanic/test.csv\n",
      "/kaggle/input/titanic/gender_submission.csv\n"
     ]
    }
   ],
   "source": [
    "# This Python 3 environment comes with many helpful analytics libraries installed\n",
    "# It is defined by the kaggle/python Docker image: https://github.com/kaggle/docker-python\n",
    "# For example, here's several helpful packages to load\n",
    "\n",
    "import numpy as np # linear algebra\n",
    "import pandas as pd # data processing, CSV file I/O (e.g. pd.read_csv)\n",
    "\n",
    "# I am following Ken Jee Beginner Kaggle Data Science Project Walk-Through (Titanic) on YouTube (credit) for learning purposes\n",
    "\n",
    "# importing Seaborn and MPL\n",
    "import seaborn as sns\n",
    "import matplotlib.pyplot as plt\n",
    "\n",
    "# Input data files are available in the read-only \"../input/\" directory\n",
    "# For example, running this (by clicking run or pressing Shift+Enter) will list all files under the input directory\n",
    "\n",
    "import os\n",
    "for dirname, _, filenames in os.walk('/kaggle/input'):\n",
    "    for filename in filenames:\n",
    "        print(os.path.join(dirname, filename))\n",
    "\n",
    "# You can write up to 20GB to the current directory (/kaggle/working/) that gets preserved as output when you create a version using \"Save & Run All\" \n",
    "# You can also write temporary files to /kaggle/temp/, but they won't be saved outside of the current session"
   ]
  },
  {
   "cell_type": "code",
   "execution_count": 2,
   "id": "f40c4642",
   "metadata": {
    "execution": {
     "iopub.execute_input": "2024-03-25T00:04:03.409379Z",
     "iopub.status.busy": "2024-03-25T00:04:03.408643Z",
     "iopub.status.idle": "2024-03-25T00:04:03.446403Z",
     "shell.execute_reply": "2024-03-25T00:04:03.445353Z"
    },
    "papermill": {
     "duration": 0.058958,
     "end_time": "2024-03-25T00:04:03.448936",
     "exception": false,
     "start_time": "2024-03-25T00:04:03.389978",
     "status": "completed"
    },
    "tags": []
   },
   "outputs": [
    {
     "data": {
      "text/html": [
       "<div>\n",
       "<style scoped>\n",
       "    .dataframe tbody tr th:only-of-type {\n",
       "        vertical-align: middle;\n",
       "    }\n",
       "\n",
       "    .dataframe tbody tr th {\n",
       "        vertical-align: top;\n",
       "    }\n",
       "\n",
       "    .dataframe thead th {\n",
       "        text-align: right;\n",
       "    }\n",
       "</style>\n",
       "<table border=\"1\" class=\"dataframe\">\n",
       "  <thead>\n",
       "    <tr style=\"text-align: right;\">\n",
       "      <th></th>\n",
       "      <th>PassengerId</th>\n",
       "      <th>Survived</th>\n",
       "      <th>Pclass</th>\n",
       "      <th>Name</th>\n",
       "      <th>Sex</th>\n",
       "      <th>Age</th>\n",
       "      <th>SibSp</th>\n",
       "      <th>Parch</th>\n",
       "      <th>Ticket</th>\n",
       "      <th>Fare</th>\n",
       "      <th>Cabin</th>\n",
       "      <th>Embarked</th>\n",
       "    </tr>\n",
       "  </thead>\n",
       "  <tbody>\n",
       "    <tr>\n",
       "      <th>0</th>\n",
       "      <td>1</td>\n",
       "      <td>0</td>\n",
       "      <td>3</td>\n",
       "      <td>Braund, Mr. Owen Harris</td>\n",
       "      <td>male</td>\n",
       "      <td>22.0</td>\n",
       "      <td>1</td>\n",
       "      <td>0</td>\n",
       "      <td>A/5 21171</td>\n",
       "      <td>7.2500</td>\n",
       "      <td>NaN</td>\n",
       "      <td>S</td>\n",
       "    </tr>\n",
       "    <tr>\n",
       "      <th>1</th>\n",
       "      <td>2</td>\n",
       "      <td>1</td>\n",
       "      <td>1</td>\n",
       "      <td>Cumings, Mrs. John Bradley (Florence Briggs Th...</td>\n",
       "      <td>female</td>\n",
       "      <td>38.0</td>\n",
       "      <td>1</td>\n",
       "      <td>0</td>\n",
       "      <td>PC 17599</td>\n",
       "      <td>71.2833</td>\n",
       "      <td>C85</td>\n",
       "      <td>C</td>\n",
       "    </tr>\n",
       "    <tr>\n",
       "      <th>2</th>\n",
       "      <td>3</td>\n",
       "      <td>1</td>\n",
       "      <td>3</td>\n",
       "      <td>Heikkinen, Miss. Laina</td>\n",
       "      <td>female</td>\n",
       "      <td>26.0</td>\n",
       "      <td>0</td>\n",
       "      <td>0</td>\n",
       "      <td>STON/O2. 3101282</td>\n",
       "      <td>7.9250</td>\n",
       "      <td>NaN</td>\n",
       "      <td>S</td>\n",
       "    </tr>\n",
       "    <tr>\n",
       "      <th>3</th>\n",
       "      <td>4</td>\n",
       "      <td>1</td>\n",
       "      <td>1</td>\n",
       "      <td>Futrelle, Mrs. Jacques Heath (Lily May Peel)</td>\n",
       "      <td>female</td>\n",
       "      <td>35.0</td>\n",
       "      <td>1</td>\n",
       "      <td>0</td>\n",
       "      <td>113803</td>\n",
       "      <td>53.1000</td>\n",
       "      <td>C123</td>\n",
       "      <td>S</td>\n",
       "    </tr>\n",
       "    <tr>\n",
       "      <th>4</th>\n",
       "      <td>5</td>\n",
       "      <td>0</td>\n",
       "      <td>3</td>\n",
       "      <td>Allen, Mr. William Henry</td>\n",
       "      <td>male</td>\n",
       "      <td>35.0</td>\n",
       "      <td>0</td>\n",
       "      <td>0</td>\n",
       "      <td>373450</td>\n",
       "      <td>8.0500</td>\n",
       "      <td>NaN</td>\n",
       "      <td>S</td>\n",
       "    </tr>\n",
       "  </tbody>\n",
       "</table>\n",
       "</div>"
      ],
      "text/plain": [
       "   PassengerId  Survived  Pclass  \\\n",
       "0            1         0       3   \n",
       "1            2         1       1   \n",
       "2            3         1       3   \n",
       "3            4         1       1   \n",
       "4            5         0       3   \n",
       "\n",
       "                                                Name     Sex   Age  SibSp  \\\n",
       "0                            Braund, Mr. Owen Harris    male  22.0      1   \n",
       "1  Cumings, Mrs. John Bradley (Florence Briggs Th...  female  38.0      1   \n",
       "2                             Heikkinen, Miss. Laina  female  26.0      0   \n",
       "3       Futrelle, Mrs. Jacques Heath (Lily May Peel)  female  35.0      1   \n",
       "4                           Allen, Mr. William Henry    male  35.0      0   \n",
       "\n",
       "   Parch            Ticket     Fare Cabin Embarked  \n",
       "0      0         A/5 21171   7.2500   NaN        S  \n",
       "1      0          PC 17599  71.2833   C85        C  \n",
       "2      0  STON/O2. 3101282   7.9250   NaN        S  \n",
       "3      0            113803  53.1000  C123        S  \n",
       "4      0            373450   8.0500   NaN        S  "
      ]
     },
     "execution_count": 2,
     "metadata": {},
     "output_type": "execute_result"
    }
   ],
   "source": [
    "training = pd.read_csv(\"/kaggle/input/titanic/train.csv\")\n",
    "training.head()\n"
   ]
  },
  {
   "cell_type": "code",
   "execution_count": 3,
   "id": "24392565",
   "metadata": {
    "execution": {
     "iopub.execute_input": "2024-03-25T00:04:03.483592Z",
     "iopub.status.busy": "2024-03-25T00:04:03.483225Z",
     "iopub.status.idle": "2024-03-25T00:04:03.506491Z",
     "shell.execute_reply": "2024-03-25T00:04:03.505431Z"
    },
    "papermill": {
     "duration": 0.043339,
     "end_time": "2024-03-25T00:04:03.508902",
     "exception": false,
     "start_time": "2024-03-25T00:04:03.465563",
     "status": "completed"
    },
    "tags": []
   },
   "outputs": [
    {
     "data": {
      "text/html": [
       "<div>\n",
       "<style scoped>\n",
       "    .dataframe tbody tr th:only-of-type {\n",
       "        vertical-align: middle;\n",
       "    }\n",
       "\n",
       "    .dataframe tbody tr th {\n",
       "        vertical-align: top;\n",
       "    }\n",
       "\n",
       "    .dataframe thead th {\n",
       "        text-align: right;\n",
       "    }\n",
       "</style>\n",
       "<table border=\"1\" class=\"dataframe\">\n",
       "  <thead>\n",
       "    <tr style=\"text-align: right;\">\n",
       "      <th></th>\n",
       "      <th>PassengerId</th>\n",
       "      <th>Pclass</th>\n",
       "      <th>Name</th>\n",
       "      <th>Sex</th>\n",
       "      <th>Age</th>\n",
       "      <th>SibSp</th>\n",
       "      <th>Parch</th>\n",
       "      <th>Ticket</th>\n",
       "      <th>Fare</th>\n",
       "      <th>Cabin</th>\n",
       "      <th>Embarked</th>\n",
       "    </tr>\n",
       "  </thead>\n",
       "  <tbody>\n",
       "    <tr>\n",
       "      <th>0</th>\n",
       "      <td>892</td>\n",
       "      <td>3</td>\n",
       "      <td>Kelly, Mr. James</td>\n",
       "      <td>male</td>\n",
       "      <td>34.5</td>\n",
       "      <td>0</td>\n",
       "      <td>0</td>\n",
       "      <td>330911</td>\n",
       "      <td>7.8292</td>\n",
       "      <td>NaN</td>\n",
       "      <td>Q</td>\n",
       "    </tr>\n",
       "    <tr>\n",
       "      <th>1</th>\n",
       "      <td>893</td>\n",
       "      <td>3</td>\n",
       "      <td>Wilkes, Mrs. James (Ellen Needs)</td>\n",
       "      <td>female</td>\n",
       "      <td>47.0</td>\n",
       "      <td>1</td>\n",
       "      <td>0</td>\n",
       "      <td>363272</td>\n",
       "      <td>7.0000</td>\n",
       "      <td>NaN</td>\n",
       "      <td>S</td>\n",
       "    </tr>\n",
       "    <tr>\n",
       "      <th>2</th>\n",
       "      <td>894</td>\n",
       "      <td>2</td>\n",
       "      <td>Myles, Mr. Thomas Francis</td>\n",
       "      <td>male</td>\n",
       "      <td>62.0</td>\n",
       "      <td>0</td>\n",
       "      <td>0</td>\n",
       "      <td>240276</td>\n",
       "      <td>9.6875</td>\n",
       "      <td>NaN</td>\n",
       "      <td>Q</td>\n",
       "    </tr>\n",
       "    <tr>\n",
       "      <th>3</th>\n",
       "      <td>895</td>\n",
       "      <td>3</td>\n",
       "      <td>Wirz, Mr. Albert</td>\n",
       "      <td>male</td>\n",
       "      <td>27.0</td>\n",
       "      <td>0</td>\n",
       "      <td>0</td>\n",
       "      <td>315154</td>\n",
       "      <td>8.6625</td>\n",
       "      <td>NaN</td>\n",
       "      <td>S</td>\n",
       "    </tr>\n",
       "    <tr>\n",
       "      <th>4</th>\n",
       "      <td>896</td>\n",
       "      <td>3</td>\n",
       "      <td>Hirvonen, Mrs. Alexander (Helga E Lindqvist)</td>\n",
       "      <td>female</td>\n",
       "      <td>22.0</td>\n",
       "      <td>1</td>\n",
       "      <td>1</td>\n",
       "      <td>3101298</td>\n",
       "      <td>12.2875</td>\n",
       "      <td>NaN</td>\n",
       "      <td>S</td>\n",
       "    </tr>\n",
       "  </tbody>\n",
       "</table>\n",
       "</div>"
      ],
      "text/plain": [
       "   PassengerId  Pclass                                          Name     Sex  \\\n",
       "0          892       3                              Kelly, Mr. James    male   \n",
       "1          893       3              Wilkes, Mrs. James (Ellen Needs)  female   \n",
       "2          894       2                     Myles, Mr. Thomas Francis    male   \n",
       "3          895       3                              Wirz, Mr. Albert    male   \n",
       "4          896       3  Hirvonen, Mrs. Alexander (Helga E Lindqvist)  female   \n",
       "\n",
       "    Age  SibSp  Parch   Ticket     Fare Cabin Embarked  \n",
       "0  34.5      0      0   330911   7.8292   NaN        Q  \n",
       "1  47.0      1      0   363272   7.0000   NaN        S  \n",
       "2  62.0      0      0   240276   9.6875   NaN        Q  \n",
       "3  27.0      0      0   315154   8.6625   NaN        S  \n",
       "4  22.0      1      1  3101298  12.2875   NaN        S  "
      ]
     },
     "execution_count": 3,
     "metadata": {},
     "output_type": "execute_result"
    }
   ],
   "source": [
    "testing = pd.read_csv(\"/kaggle/input/titanic/test.csv\")\n",
    "testing.head()"
   ]
  },
  {
   "cell_type": "code",
   "execution_count": 4,
   "id": "6d712874",
   "metadata": {
    "execution": {
     "iopub.execute_input": "2024-03-25T00:04:03.545821Z",
     "iopub.status.busy": "2024-03-25T00:04:03.544868Z",
     "iopub.status.idle": "2024-03-25T00:04:03.561195Z",
     "shell.execute_reply": "2024-03-25T00:04:03.560069Z"
    },
    "papermill": {
     "duration": 0.03757,
     "end_time": "2024-03-25T00:04:03.563732",
     "exception": false,
     "start_time": "2024-03-25T00:04:03.526162",
     "status": "completed"
    },
    "tags": []
   },
   "outputs": [
    {
     "data": {
      "text/plain": [
       "Index(['PassengerId', 'Survived', 'Pclass', 'Name', 'Sex', 'Age', 'SibSp',\n",
       "       'Parch', 'Ticket', 'Fare', 'Cabin', 'Embarked', 'train_test'],\n",
       "      dtype='object')"
      ]
     },
     "execution_count": 4,
     "metadata": {},
     "output_type": "execute_result"
    }
   ],
   "source": [
    "# read the training & testing data in above, organizing the training & testing it here\n",
    "# we are initializing a column train_test so that we can split out the training (=1) and testing (=0) later once preprocessing is complete\n",
    "training['train_test'] = 1\n",
    "testing['train_test'] = 0\n",
    "testing['Survived'] = np.NaN # this blanks out the survived result (y) in the testing data which we shouldn't have access to anyway\n",
    "\n",
    "all_data = pd.concat([training, testing])\n",
    "all_data.columns"
   ]
  },
  {
   "cell_type": "code",
   "execution_count": 5,
   "id": "d917d709",
   "metadata": {
    "execution": {
     "iopub.execute_input": "2024-03-25T00:04:03.599080Z",
     "iopub.status.busy": "2024-03-25T00:04:03.598377Z",
     "iopub.status.idle": "2024-03-25T00:04:03.607955Z",
     "shell.execute_reply": "2024-03-25T00:04:03.607056Z"
    },
    "papermill": {
     "duration": 0.030049,
     "end_time": "2024-03-25T00:04:03.610344",
     "exception": false,
     "start_time": "2024-03-25T00:04:03.580295",
     "status": "completed"
    },
    "tags": []
   },
   "outputs": [
    {
     "name": "stdout",
     "output_type": "stream",
     "text": [
      "Survival Rate of Women onboard: 74.20382165605095 %\n"
     ]
    }
   ],
   "source": [
    "women = training.loc[training.Sex == 'female']['Survived']\n",
    "survival_women = sum(women)/len(women)\n",
    "\n",
    "print(\"Survival Rate of Women onboard:\", survival_women * 100, \"%\")"
   ]
  },
  {
   "cell_type": "code",
   "execution_count": 6,
   "id": "db4cf62e",
   "metadata": {
    "execution": {
     "iopub.execute_input": "2024-03-25T00:04:03.646403Z",
     "iopub.status.busy": "2024-03-25T00:04:03.645614Z",
     "iopub.status.idle": "2024-03-25T00:04:03.654610Z",
     "shell.execute_reply": "2024-03-25T00:04:03.653312Z"
    },
    "papermill": {
     "duration": 0.029479,
     "end_time": "2024-03-25T00:04:03.657148",
     "exception": false,
     "start_time": "2024-03-25T00:04:03.627669",
     "status": "completed"
    },
    "tags": []
   },
   "outputs": [
    {
     "name": "stdout",
     "output_type": "stream",
     "text": [
      "Survival Rate of Men onboard: 18.890814558058924 %\n"
     ]
    }
   ],
   "source": [
    "men = training.loc[training.Sex == \"male\"]['Survived']\n",
    "survival_men = sum(men)/len(men)\n",
    "\n",
    "print(\"Survival Rate of Men onboard:\", survival_men * 100, \"%\")"
   ]
  },
  {
   "cell_type": "code",
   "execution_count": 7,
   "id": "81103085",
   "metadata": {
    "execution": {
     "iopub.execute_input": "2024-03-25T00:04:03.692728Z",
     "iopub.status.busy": "2024-03-25T00:04:03.692315Z",
     "iopub.status.idle": "2024-03-25T00:04:03.697287Z",
     "shell.execute_reply": "2024-03-25T00:04:03.696208Z"
    },
    "papermill": {
     "duration": 0.025236,
     "end_time": "2024-03-25T00:04:03.699451",
     "exception": false,
     "start_time": "2024-03-25T00:04:03.674215",
     "status": "completed"
    },
    "tags": []
   },
   "outputs": [],
   "source": [
    "# Understand nature of the data .info() .describe() good starting points\n",
    "# histograms and box plots\n",
    "# missing data? e.g. fare = 0, did some people get on for free?\n",
    "# correlations between metrics\n",
    "# interesting themes e.g. wealthy survive, age related to ticket price? were there young and wealthy cohorts?\n",
    "# feature engineering (?)\n",
    "# preprocess data or use a transformer?\n",
    "# use label for train and test"
   ]
  },
  {
   "cell_type": "code",
   "execution_count": 8,
   "id": "4f625c9f",
   "metadata": {
    "execution": {
     "iopub.execute_input": "2024-03-25T00:04:03.735039Z",
     "iopub.status.busy": "2024-03-25T00:04:03.734232Z",
     "iopub.status.idle": "2024-03-25T00:04:03.757450Z",
     "shell.execute_reply": "2024-03-25T00:04:03.756331Z"
    },
    "papermill": {
     "duration": 0.044037,
     "end_time": "2024-03-25T00:04:03.760382",
     "exception": false,
     "start_time": "2024-03-25T00:04:03.716345",
     "status": "completed"
    },
    "tags": []
   },
   "outputs": [
    {
     "name": "stdout",
     "output_type": "stream",
     "text": [
      "<class 'pandas.core.frame.DataFrame'>\n",
      "RangeIndex: 891 entries, 0 to 890\n",
      "Data columns (total 13 columns):\n",
      " #   Column       Non-Null Count  Dtype  \n",
      "---  ------       --------------  -----  \n",
      " 0   PassengerId  891 non-null    int64  \n",
      " 1   Survived     891 non-null    int64  \n",
      " 2   Pclass       891 non-null    int64  \n",
      " 3   Name         891 non-null    object \n",
      " 4   Sex          891 non-null    object \n",
      " 5   Age          714 non-null    float64\n",
      " 6   SibSp        891 non-null    int64  \n",
      " 7   Parch        891 non-null    int64  \n",
      " 8   Ticket       891 non-null    object \n",
      " 9   Fare         891 non-null    float64\n",
      " 10  Cabin        204 non-null    object \n",
      " 11  Embarked     889 non-null    object \n",
      " 12  train_test   891 non-null    int64  \n",
      "dtypes: float64(2), int64(6), object(5)\n",
      "memory usage: 90.6+ KB\n"
     ]
    }
   ],
   "source": [
    "training.info()"
   ]
  },
  {
   "cell_type": "code",
   "execution_count": 9,
   "id": "ccb35883",
   "metadata": {
    "execution": {
     "iopub.execute_input": "2024-03-25T00:04:03.796026Z",
     "iopub.status.busy": "2024-03-25T00:04:03.795214Z",
     "iopub.status.idle": "2024-03-25T00:04:03.800018Z",
     "shell.execute_reply": "2024-03-25T00:04:03.799227Z"
    },
    "papermill": {
     "duration": 0.024953,
     "end_time": "2024-03-25T00:04:03.802210",
     "exception": false,
     "start_time": "2024-03-25T00:04:03.777257",
     "status": "completed"
    },
    "tags": []
   },
   "outputs": [],
   "source": [
    "#lots of null values for Cabin - assuming 3rd class did not get a cabin"
   ]
  },
  {
   "cell_type": "code",
   "execution_count": 10,
   "id": "46edffaa",
   "metadata": {
    "execution": {
     "iopub.execute_input": "2024-03-25T00:04:03.838639Z",
     "iopub.status.busy": "2024-03-25T00:04:03.837759Z",
     "iopub.status.idle": "2024-03-25T00:04:03.873179Z",
     "shell.execute_reply": "2024-03-25T00:04:03.872218Z"
    },
    "papermill": {
     "duration": 0.056442,
     "end_time": "2024-03-25T00:04:03.875630",
     "exception": false,
     "start_time": "2024-03-25T00:04:03.819188",
     "status": "completed"
    },
    "tags": []
   },
   "outputs": [
    {
     "data": {
      "text/html": [
       "<div>\n",
       "<style scoped>\n",
       "    .dataframe tbody tr th:only-of-type {\n",
       "        vertical-align: middle;\n",
       "    }\n",
       "\n",
       "    .dataframe tbody tr th {\n",
       "        vertical-align: top;\n",
       "    }\n",
       "\n",
       "    .dataframe thead th {\n",
       "        text-align: right;\n",
       "    }\n",
       "</style>\n",
       "<table border=\"1\" class=\"dataframe\">\n",
       "  <thead>\n",
       "    <tr style=\"text-align: right;\">\n",
       "      <th></th>\n",
       "      <th>PassengerId</th>\n",
       "      <th>Survived</th>\n",
       "      <th>Pclass</th>\n",
       "      <th>Age</th>\n",
       "      <th>SibSp</th>\n",
       "      <th>Parch</th>\n",
       "      <th>Fare</th>\n",
       "      <th>train_test</th>\n",
       "    </tr>\n",
       "  </thead>\n",
       "  <tbody>\n",
       "    <tr>\n",
       "      <th>count</th>\n",
       "      <td>891.000000</td>\n",
       "      <td>891.000000</td>\n",
       "      <td>891.000000</td>\n",
       "      <td>714.000000</td>\n",
       "      <td>891.000000</td>\n",
       "      <td>891.000000</td>\n",
       "      <td>891.000000</td>\n",
       "      <td>891.0</td>\n",
       "    </tr>\n",
       "    <tr>\n",
       "      <th>mean</th>\n",
       "      <td>446.000000</td>\n",
       "      <td>0.383838</td>\n",
       "      <td>2.308642</td>\n",
       "      <td>29.699118</td>\n",
       "      <td>0.523008</td>\n",
       "      <td>0.381594</td>\n",
       "      <td>32.204208</td>\n",
       "      <td>1.0</td>\n",
       "    </tr>\n",
       "    <tr>\n",
       "      <th>std</th>\n",
       "      <td>257.353842</td>\n",
       "      <td>0.486592</td>\n",
       "      <td>0.836071</td>\n",
       "      <td>14.526497</td>\n",
       "      <td>1.102743</td>\n",
       "      <td>0.806057</td>\n",
       "      <td>49.693429</td>\n",
       "      <td>0.0</td>\n",
       "    </tr>\n",
       "    <tr>\n",
       "      <th>min</th>\n",
       "      <td>1.000000</td>\n",
       "      <td>0.000000</td>\n",
       "      <td>1.000000</td>\n",
       "      <td>0.420000</td>\n",
       "      <td>0.000000</td>\n",
       "      <td>0.000000</td>\n",
       "      <td>0.000000</td>\n",
       "      <td>1.0</td>\n",
       "    </tr>\n",
       "    <tr>\n",
       "      <th>25%</th>\n",
       "      <td>223.500000</td>\n",
       "      <td>0.000000</td>\n",
       "      <td>2.000000</td>\n",
       "      <td>20.125000</td>\n",
       "      <td>0.000000</td>\n",
       "      <td>0.000000</td>\n",
       "      <td>7.910400</td>\n",
       "      <td>1.0</td>\n",
       "    </tr>\n",
       "    <tr>\n",
       "      <th>50%</th>\n",
       "      <td>446.000000</td>\n",
       "      <td>0.000000</td>\n",
       "      <td>3.000000</td>\n",
       "      <td>28.000000</td>\n",
       "      <td>0.000000</td>\n",
       "      <td>0.000000</td>\n",
       "      <td>14.454200</td>\n",
       "      <td>1.0</td>\n",
       "    </tr>\n",
       "    <tr>\n",
       "      <th>75%</th>\n",
       "      <td>668.500000</td>\n",
       "      <td>1.000000</td>\n",
       "      <td>3.000000</td>\n",
       "      <td>38.000000</td>\n",
       "      <td>1.000000</td>\n",
       "      <td>0.000000</td>\n",
       "      <td>31.000000</td>\n",
       "      <td>1.0</td>\n",
       "    </tr>\n",
       "    <tr>\n",
       "      <th>max</th>\n",
       "      <td>891.000000</td>\n",
       "      <td>1.000000</td>\n",
       "      <td>3.000000</td>\n",
       "      <td>80.000000</td>\n",
       "      <td>8.000000</td>\n",
       "      <td>6.000000</td>\n",
       "      <td>512.329200</td>\n",
       "      <td>1.0</td>\n",
       "    </tr>\n",
       "  </tbody>\n",
       "</table>\n",
       "</div>"
      ],
      "text/plain": [
       "       PassengerId    Survived      Pclass         Age       SibSp  \\\n",
       "count   891.000000  891.000000  891.000000  714.000000  891.000000   \n",
       "mean    446.000000    0.383838    2.308642   29.699118    0.523008   \n",
       "std     257.353842    0.486592    0.836071   14.526497    1.102743   \n",
       "min       1.000000    0.000000    1.000000    0.420000    0.000000   \n",
       "25%     223.500000    0.000000    2.000000   20.125000    0.000000   \n",
       "50%     446.000000    0.000000    3.000000   28.000000    0.000000   \n",
       "75%     668.500000    1.000000    3.000000   38.000000    1.000000   \n",
       "max     891.000000    1.000000    3.000000   80.000000    8.000000   \n",
       "\n",
       "            Parch        Fare  train_test  \n",
       "count  891.000000  891.000000       891.0  \n",
       "mean     0.381594   32.204208         1.0  \n",
       "std      0.806057   49.693429         0.0  \n",
       "min      0.000000    0.000000         1.0  \n",
       "25%      0.000000    7.910400         1.0  \n",
       "50%      0.000000   14.454200         1.0  \n",
       "75%      0.000000   31.000000         1.0  \n",
       "max      6.000000  512.329200         1.0  "
      ]
     },
     "execution_count": 10,
     "metadata": {},
     "output_type": "execute_result"
    }
   ],
   "source": [
    "training.describe()"
   ]
  },
  {
   "cell_type": "code",
   "execution_count": 11,
   "id": "30e52e9e",
   "metadata": {
    "execution": {
     "iopub.execute_input": "2024-03-25T00:04:03.912072Z",
     "iopub.status.busy": "2024-03-25T00:04:03.911240Z",
     "iopub.status.idle": "2024-03-25T00:04:03.936203Z",
     "shell.execute_reply": "2024-03-25T00:04:03.934807Z"
    },
    "papermill": {
     "duration": 0.04578,
     "end_time": "2024-03-25T00:04:03.938622",
     "exception": false,
     "start_time": "2024-03-25T00:04:03.892842",
     "status": "completed"
    },
    "tags": []
   },
   "outputs": [
    {
     "data": {
      "text/plain": [
       "Index(['PassengerId', 'Survived', 'Pclass', 'Age', 'SibSp', 'Parch', 'Fare',\n",
       "       'train_test'],\n",
       "      dtype='object')"
      ]
     },
     "execution_count": 11,
     "metadata": {},
     "output_type": "execute_result"
    }
   ],
   "source": [
    "training.describe().columns"
   ]
  },
  {
   "cell_type": "code",
   "execution_count": 12,
   "id": "b35467e3",
   "metadata": {
    "execution": {
     "iopub.execute_input": "2024-03-25T00:04:03.974760Z",
     "iopub.status.busy": "2024-03-25T00:04:03.974355Z",
     "iopub.status.idle": "2024-03-25T00:04:03.983563Z",
     "shell.execute_reply": "2024-03-25T00:04:03.982439Z"
    },
    "papermill": {
     "duration": 0.029825,
     "end_time": "2024-03-25T00:04:03.985708",
     "exception": false,
     "start_time": "2024-03-25T00:04:03.955883",
     "status": "completed"
    },
    "tags": []
   },
   "outputs": [],
   "source": [
    "df_num = training[['Age', 'SibSp', 'Parch', 'Fare']]\n",
    "df_cat = training[['Survived', 'Pclass', 'Ticket','Cabin', 'Embarked']]\n",
    "#manually define these as separate variable types for annalysis"
   ]
  },
  {
   "cell_type": "code",
   "execution_count": 13,
   "id": "c3b287d3",
   "metadata": {
    "execution": {
     "iopub.execute_input": "2024-03-25T00:04:04.022106Z",
     "iopub.status.busy": "2024-03-25T00:04:04.021255Z",
     "iopub.status.idle": "2024-03-25T00:04:05.310293Z",
     "shell.execute_reply": "2024-03-25T00:04:05.309094Z"
    },
    "papermill": {
     "duration": 1.31008,
     "end_time": "2024-03-25T00:04:05.312943",
     "exception": false,
     "start_time": "2024-03-25T00:04:04.002863",
     "status": "completed"
    },
    "tags": []
   },
   "outputs": [
    {
     "data": {
      "image/png": "[encoded data removed]",
      "text/plain": [
       "<Figure size 640x480 with 1 Axes>"
      ]
     },
     "metadata": {},
     "output_type": "display_data"
    },
    {
     "data": {
      "image/png": "[encoded data removed]",
      "text/plain": [
       "<Figure size 640x480 with 1 Axes>"
      ]
     },
     "metadata": {},
     "output_type": "display_data"
    },
    {
     "data": {
      "image/png": "[encoded data removed]",
      "text/plain": [
       "<Figure size 640x480 with 1 Axes>"
      ]
     },
     "metadata": {},
     "output_type": "display_data"
    },
    {
     "data": {
      "image/png": "[encoded data removed]",
      "text/plain": [
       "<Figure size 640x480 with 1 Axes>"
      ]
     },
     "metadata": {},
     "output_type": "display_data"
    }
   ],
   "source": [
    "for category in df_num.columns:\n",
    "    plt.hist(df_num[category])\n",
    "    plt.title(category)\n",
    "    plt.show()"
   ]
  },
  {
   "cell_type": "code",
   "execution_count": 14,
   "id": "dcaf5c13",
   "metadata": {
    "execution": {
     "iopub.execute_input": "2024-03-25T00:04:05.351511Z",
     "iopub.status.busy": "2024-03-25T00:04:05.351128Z",
     "iopub.status.idle": "2024-03-25T00:04:05.700327Z",
     "shell.execute_reply": "2024-03-25T00:04:05.699092Z"
    },
    "papermill": {
     "duration": 0.371613,
     "end_time": "2024-03-25T00:04:05.702976",
     "exception": false,
     "start_time": "2024-03-25T00:04:05.331363",
     "status": "completed"
    },
    "tags": []
   },
   "outputs": [
    {
     "name": "stdout",
     "output_type": "stream",
     "text": [
      "            Age     SibSp     Parch      Fare\n",
      "Age    1.000000 -0.308247 -0.189119  0.096067\n",
      "SibSp -0.308247  1.000000  0.414838  0.159651\n",
      "Parch -0.189119  0.414838  1.000000  0.216225\n",
      "Fare   0.096067  0.159651  0.216225  1.000000\n"
     ]
    },
    {
     "data": {
      "text/plain": [
       "<Axes: >"
      ]
     },
     "execution_count": 14,
     "metadata": {},
     "output_type": "execute_result"
    },
    {
     "data": {
      "image/png": "[encoded data removed]",
      "text/plain": [
       "<Figure size 640x480 with 2 Axes>"
      ]
     },
     "metadata": {},
     "output_type": "display_data"
    }
   ],
   "source": [
    "print(df_num.corr())\n",
    "sns.heatmap(df_num.corr())\n"
   ]
  },
  {
   "cell_type": "code",
   "execution_count": 15,
   "id": "a584f53a",
   "metadata": {
    "execution": {
     "iopub.execute_input": "2024-03-25T00:04:05.743999Z",
     "iopub.status.busy": "2024-03-25T00:04:05.743390Z",
     "iopub.status.idle": "2024-03-25T00:04:05.762591Z",
     "shell.execute_reply": "2024-03-25T00:04:05.761417Z"
    },
    "papermill": {
     "duration": 0.04291,
     "end_time": "2024-03-25T00:04:05.765106",
     "exception": false,
     "start_time": "2024-03-25T00:04:05.722196",
     "status": "completed"
    },
    "tags": []
   },
   "outputs": [
    {
     "data": {
      "text/html": [
       "<div>\n",
       "<style scoped>\n",
       "    .dataframe tbody tr th:only-of-type {\n",
       "        vertical-align: middle;\n",
       "    }\n",
       "\n",
       "    .dataframe tbody tr th {\n",
       "        vertical-align: top;\n",
       "    }\n",
       "\n",
       "    .dataframe thead th {\n",
       "        text-align: right;\n",
       "    }\n",
       "</style>\n",
       "<table border=\"1\" class=\"dataframe\">\n",
       "  <thead>\n",
       "    <tr style=\"text-align: right;\">\n",
       "      <th></th>\n",
       "      <th>Age</th>\n",
       "      <th>Fare</th>\n",
       "      <th>Parch</th>\n",
       "      <th>SibSp</th>\n",
       "    </tr>\n",
       "    <tr>\n",
       "      <th>Survived</th>\n",
       "      <th></th>\n",
       "      <th></th>\n",
       "      <th></th>\n",
       "      <th></th>\n",
       "    </tr>\n",
       "  </thead>\n",
       "  <tbody>\n",
       "    <tr>\n",
       "      <th>0</th>\n",
       "      <td>30.626179</td>\n",
       "      <td>22.117887</td>\n",
       "      <td>0.329690</td>\n",
       "      <td>0.553734</td>\n",
       "    </tr>\n",
       "    <tr>\n",
       "      <th>1</th>\n",
       "      <td>28.343690</td>\n",
       "      <td>48.395408</td>\n",
       "      <td>0.464912</td>\n",
       "      <td>0.473684</td>\n",
       "    </tr>\n",
       "  </tbody>\n",
       "</table>\n",
       "</div>"
      ],
      "text/plain": [
       "                Age       Fare     Parch     SibSp\n",
       "Survived                                          \n",
       "0         30.626179  22.117887  0.329690  0.553734\n",
       "1         28.343690  48.395408  0.464912  0.473684"
      ]
     },
     "execution_count": 15,
     "metadata": {},
     "output_type": "execute_result"
    }
   ],
   "source": [
    "# compare survival rate across age, sibsp, parch and fare\n",
    "pd.pivot_table(training, index=\"Survived\", values= ['Age', 'SibSp', 'Parch', 'Fare'])"
   ]
  },
  {
   "cell_type": "code",
   "execution_count": 16,
   "id": "fa067b21",
   "metadata": {
    "execution": {
     "iopub.execute_input": "2024-03-25T00:04:05.810044Z",
     "iopub.status.busy": "2024-03-25T00:04:05.809164Z",
     "iopub.status.idle": "2024-03-25T00:04:15.067598Z",
     "shell.execute_reply": "2024-03-25T00:04:15.066533Z"
    },
    "papermill": {
     "duration": 9.28252,
     "end_time": "2024-03-25T00:04:15.070230",
     "exception": false,
     "start_time": "2024-03-25T00:04:05.787710",
     "status": "completed"
    },
    "tags": []
   },
   "outputs": [
    {
     "data": {
      "image/png": "[encoded data removed]",
      "text/plain": [
       "<Figure size 640x480 with 1 Axes>"
      ]
     },
     "metadata": {},
     "output_type": "display_data"
    },
    {
     "data": {
      "image/png": "[encoded data removed]",
      "text/plain": [
       "<Figure size 640x480 with 1 Axes>"
      ]
     },
     "metadata": {},
     "output_type": "display_data"
    },
    {
     "data": {
      "image/png": "[encoded data removed]",
      "text/plain": [
       "<Figure size 640x480 with 1 Axes>"
      ]
     },
     "metadata": {},
     "output_type": "display_data"
    },
    {
     "data": {
      "image/png": "[encoded data removed]",
      "text/plain": [
       "<Figure size 640x480 with 1 Axes>"
      ]
     },
     "metadata": {},
     "output_type": "display_data"
    },
    {
     "data": {
      "image/png": "[encoded data removed]",
      "text/plain": [
       "<Figure size 640x480 with 1 Axes>"
      ]
     },
     "metadata": {},
     "output_type": "display_data"
    }
   ],
   "source": [
    "for i in df_cat.columns:\n",
    "    sns.barplot(x=df_cat[i].value_counts().index, y=df_cat[i].value_counts())\n",
    "    plt.title(i)\n",
    "    plt.show()"
   ]
  },
  {
   "cell_type": "code",
   "execution_count": 17,
   "id": "f3f99587",
   "metadata": {
    "execution": {
     "iopub.execute_input": "2024-03-25T00:04:15.116381Z",
     "iopub.status.busy": "2024-03-25T00:04:15.115954Z",
     "iopub.status.idle": "2024-03-25T00:04:15.148321Z",
     "shell.execute_reply": "2024-03-25T00:04:15.147054Z"
    },
    "papermill": {
     "duration": 0.057783,
     "end_time": "2024-03-25T00:04:15.151165",
     "exception": false,
     "start_time": "2024-03-25T00:04:15.093382",
     "status": "completed"
    },
    "tags": []
   },
   "outputs": [
    {
     "name": "stdout",
     "output_type": "stream",
     "text": [
      "Pclass      1   2    3\n",
      "Survived              \n",
      "0          80  97  372\n",
      "1         136  87  119\n",
      "\n",
      "Sex       female  male\n",
      "Survived              \n",
      "0             81   468\n",
      "1            233   109\n",
      "\n",
      "Embarked   C   Q    S\n",
      "Survived             \n",
      "0         75  47  427\n",
      "1         93  30  217\n",
      "\n"
     ]
    }
   ],
   "source": [
    "print(pd.pivot_table(training, index = 'Survived', columns = 'Pclass', values = 'Ticket', aggfunc = 'count'))\n",
    "print()\n",
    "print(pd.pivot_table(training, index = 'Survived', columns = 'Sex', values = 'Ticket', aggfunc = 'count'))\n",
    "print()\n",
    "print(pd.pivot_table(training, index = 'Survived', columns = 'Embarked', values = 'Ticket', aggfunc = 'count'))\n",
    "print()"
   ]
  },
  {
   "cell_type": "code",
   "execution_count": 18,
   "id": "b7c5c6da",
   "metadata": {
    "execution": {
     "iopub.execute_input": "2024-03-25T00:04:15.196380Z",
     "iopub.status.busy": "2024-03-25T00:04:15.195969Z",
     "iopub.status.idle": "2024-03-25T00:04:15.207064Z",
     "shell.execute_reply": "2024-03-25T00:04:15.206297Z"
    },
    "papermill": {
     "duration": 0.036536,
     "end_time": "2024-03-25T00:04:15.209510",
     "exception": false,
     "start_time": "2024-03-25T00:04:15.172974",
     "status": "completed"
    },
    "tags": []
   },
   "outputs": [
    {
     "data": {
      "text/plain": [
       "cabin_multiple\n",
       "0    687\n",
       "1    180\n",
       "2     16\n",
       "3      6\n",
       "4      2\n",
       "Name: count, dtype: int64"
      ]
     },
     "execution_count": 18,
     "metadata": {},
     "output_type": "execute_result"
    }
   ],
   "source": [
    "#example of Feature engineering - did a person have multiple cabins (super upper class??)\n",
    "df_cat.Cabin\n",
    "training['cabin_multiple'] = training.Cabin.apply(lambda x: 0 if pd.isna(x) else len(x.split(' ')))\n",
    "training['cabin_multiple'].value_counts()"
   ]
  },
  {
   "cell_type": "markdown",
   "id": "69bfe954",
   "metadata": {
    "papermill": {
     "duration": 0.021055,
     "end_time": "2024-03-25T00:04:15.252089",
     "exception": false,
     "start_time": "2024-03-25T00:04:15.231034",
     "status": "completed"
    },
    "tags": []
   },
   "source": [
    "Above, we were defining a new category for multiple cabins - if we expect class is a predictor of survivability then what about super upper class, such that they had multiple cabins?"
   ]
  },
  {
   "cell_type": "code",
   "execution_count": 19,
   "id": "9b7a3cc3",
   "metadata": {
    "execution": {
     "iopub.execute_input": "2024-03-25T00:04:15.297023Z",
     "iopub.status.busy": "2024-03-25T00:04:15.296412Z",
     "iopub.status.idle": "2024-03-25T00:04:15.314016Z",
     "shell.execute_reply": "2024-03-25T00:04:15.313220Z"
    },
    "papermill": {
     "duration": 0.042663,
     "end_time": "2024-03-25T00:04:15.316198",
     "exception": false,
     "start_time": "2024-03-25T00:04:15.273535",
     "status": "completed"
    },
    "tags": []
   },
   "outputs": [
    {
     "data": {
      "text/html": [
       "<div>\n",
       "<style scoped>\n",
       "    .dataframe tbody tr th:only-of-type {\n",
       "        vertical-align: middle;\n",
       "    }\n",
       "\n",
       "    .dataframe tbody tr th {\n",
       "        vertical-align: top;\n",
       "    }\n",
       "\n",
       "    .dataframe thead th {\n",
       "        text-align: right;\n",
       "    }\n",
       "</style>\n",
       "<table border=\"1\" class=\"dataframe\">\n",
       "  <thead>\n",
       "    <tr style=\"text-align: right;\">\n",
       "      <th>cabin_multiple</th>\n",
       "      <th>0</th>\n",
       "      <th>1</th>\n",
       "      <th>2</th>\n",
       "      <th>3</th>\n",
       "      <th>4</th>\n",
       "    </tr>\n",
       "    <tr>\n",
       "      <th>Survived</th>\n",
       "      <th></th>\n",
       "      <th></th>\n",
       "      <th></th>\n",
       "      <th></th>\n",
       "      <th></th>\n",
       "    </tr>\n",
       "  </thead>\n",
       "  <tbody>\n",
       "    <tr>\n",
       "      <th>0</th>\n",
       "      <td>481.0</td>\n",
       "      <td>58.0</td>\n",
       "      <td>7.0</td>\n",
       "      <td>3.0</td>\n",
       "      <td>NaN</td>\n",
       "    </tr>\n",
       "    <tr>\n",
       "      <th>1</th>\n",
       "      <td>206.0</td>\n",
       "      <td>122.0</td>\n",
       "      <td>9.0</td>\n",
       "      <td>3.0</td>\n",
       "      <td>2.0</td>\n",
       "    </tr>\n",
       "  </tbody>\n",
       "</table>\n",
       "</div>"
      ],
      "text/plain": [
       "cabin_multiple      0      1    2    3    4\n",
       "Survived                                   \n",
       "0               481.0   58.0  7.0  3.0  NaN\n",
       "1               206.0  122.0  9.0  3.0  2.0"
      ]
     },
     "execution_count": 19,
     "metadata": {},
     "output_type": "execute_result"
    }
   ],
   "source": [
    "pd.pivot_table(training, index = 'Survived', columns = 'cabin_multiple', values= 'Ticket', aggfunc = 'count')"
   ]
  },
  {
   "cell_type": "code",
   "execution_count": 20,
   "id": "4a848b25",
   "metadata": {
    "execution": {
     "iopub.execute_input": "2024-03-25T00:04:15.361912Z",
     "iopub.status.busy": "2024-03-25T00:04:15.361324Z",
     "iopub.status.idle": "2024-03-25T00:04:15.366756Z",
     "shell.execute_reply": "2024-03-25T00:04:15.365984Z"
    },
    "papermill": {
     "duration": 0.030981,
     "end_time": "2024-03-25T00:04:15.368903",
     "exception": false,
     "start_time": "2024-03-25T00:04:15.337922",
     "status": "completed"
    },
    "tags": []
   },
   "outputs": [],
   "source": [
    "# create a variable to see the first letter of the cabin class - what types of cabins are there? null value can be its own category\n",
    "\n",
    "training[\"cabin_cat\"] = training.Cabin.apply(lambda x: str(x)[0])"
   ]
  },
  {
   "cell_type": "code",
   "execution_count": 21,
   "id": "6afd83ae",
   "metadata": {
    "execution": {
     "iopub.execute_input": "2024-03-25T00:04:15.414537Z",
     "iopub.status.busy": "2024-03-25T00:04:15.413647Z",
     "iopub.status.idle": "2024-03-25T00:04:15.438271Z",
     "shell.execute_reply": "2024-03-25T00:04:15.437427Z"
    },
    "papermill": {
     "duration": 0.050021,
     "end_time": "2024-03-25T00:04:15.440622",
     "exception": false,
     "start_time": "2024-03-25T00:04:15.390601",
     "status": "completed"
    },
    "tags": []
   },
   "outputs": [
    {
     "name": "stdout",
     "output_type": "stream",
     "text": [
      "cabin_cat\n",
      "n    687\n",
      "C     59\n",
      "B     47\n",
      "D     33\n",
      "E     32\n",
      "A     15\n",
      "F     13\n",
      "G      4\n",
      "T      1\n",
      "Name: count, dtype: int64 \n",
      "\n",
      "\n"
     ]
    },
    {
     "data": {
      "text/html": [
       "<div>\n",
       "<style scoped>\n",
       "    .dataframe tbody tr th:only-of-type {\n",
       "        vertical-align: middle;\n",
       "    }\n",
       "\n",
       "    .dataframe tbody tr th {\n",
       "        vertical-align: top;\n",
       "    }\n",
       "\n",
       "    .dataframe thead th {\n",
       "        text-align: right;\n",
       "    }\n",
       "</style>\n",
       "<table border=\"1\" class=\"dataframe\">\n",
       "  <thead>\n",
       "    <tr style=\"text-align: right;\">\n",
       "      <th>cabin_cat</th>\n",
       "      <th>A</th>\n",
       "      <th>B</th>\n",
       "      <th>C</th>\n",
       "      <th>D</th>\n",
       "      <th>E</th>\n",
       "      <th>F</th>\n",
       "      <th>G</th>\n",
       "      <th>T</th>\n",
       "      <th>n</th>\n",
       "    </tr>\n",
       "    <tr>\n",
       "      <th>Survived</th>\n",
       "      <th></th>\n",
       "      <th></th>\n",
       "      <th></th>\n",
       "      <th></th>\n",
       "      <th></th>\n",
       "      <th></th>\n",
       "      <th></th>\n",
       "      <th></th>\n",
       "      <th></th>\n",
       "    </tr>\n",
       "  </thead>\n",
       "  <tbody>\n",
       "    <tr>\n",
       "      <th>0</th>\n",
       "      <td>8.0</td>\n",
       "      <td>12.0</td>\n",
       "      <td>24.0</td>\n",
       "      <td>8.0</td>\n",
       "      <td>8.0</td>\n",
       "      <td>5.0</td>\n",
       "      <td>2.0</td>\n",
       "      <td>1.0</td>\n",
       "      <td>481.0</td>\n",
       "    </tr>\n",
       "    <tr>\n",
       "      <th>1</th>\n",
       "      <td>7.0</td>\n",
       "      <td>35.0</td>\n",
       "      <td>35.0</td>\n",
       "      <td>25.0</td>\n",
       "      <td>24.0</td>\n",
       "      <td>8.0</td>\n",
       "      <td>2.0</td>\n",
       "      <td>NaN</td>\n",
       "      <td>206.0</td>\n",
       "    </tr>\n",
       "  </tbody>\n",
       "</table>\n",
       "</div>"
      ],
      "text/plain": [
       "cabin_cat    A     B     C     D     E    F    G    T      n\n",
       "Survived                                                    \n",
       "0          8.0  12.0  24.0   8.0   8.0  5.0  2.0  1.0  481.0\n",
       "1          7.0  35.0  35.0  25.0  24.0  8.0  2.0  NaN  206.0"
      ]
     },
     "execution_count": 21,
     "metadata": {},
     "output_type": "execute_result"
    }
   ],
   "source": [
    "print(training.cabin_cat.value_counts(), \"\\n\\n\")\n",
    "pd.pivot_table(training, index=\"Survived\", columns=\"cabin_cat\", values =\"Name\", aggfunc=\"count\")"
   ]
  },
  {
   "cell_type": "markdown",
   "id": "82b88360",
   "metadata": {
    "papermill": {
     "duration": 0.021653,
     "end_time": "2024-03-25T00:04:15.545338",
     "exception": false,
     "start_time": "2024-03-25T00:04:15.523685",
     "status": "completed"
    },
    "tags": []
   },
   "source": [
    "We can try to use the Cabin type above as a meaningful categorical variable, there is a clearly higher survival rate if you had one of the cabins (with the exception of class A)"
   ]
  },
  {
   "cell_type": "code",
   "execution_count": 22,
   "id": "6880089c",
   "metadata": {
    "execution": {
     "iopub.execute_input": "2024-03-25T00:04:15.591645Z",
     "iopub.status.busy": "2024-03-25T00:04:15.590936Z",
     "iopub.status.idle": "2024-03-25T00:04:15.601620Z",
     "shell.execute_reply": "2024-03-25T00:04:15.600425Z"
    },
    "papermill": {
     "duration": 0.036857,
     "end_time": "2024-03-25T00:04:15.604255",
     "exception": false,
     "start_time": "2024-03-25T00:04:15.567398",
     "status": "completed"
    },
    "tags": []
   },
   "outputs": [],
   "source": [
    "#ticket values understanding - some have numbers only, some have letters too\n",
    "training[\"numeric_ticket\"] = training.Ticket.apply(lambda x: 1 if x.isnumeric() else 0) # create numeric_ticket variable as 1 if entire value is numeric\n",
    "training[\"ticket_letters\"] = training.Ticket.apply(lambda x: ''.join(x.split(' ')[:-1]).replace('.','').replace('/','').lower() if len(x.split(' ')[:-1]) > 0 else 0)"
   ]
  },
  {
   "cell_type": "code",
   "execution_count": 23,
   "id": "71b3ae91",
   "metadata": {
    "execution": {
     "iopub.execute_input": "2024-03-25T00:04:15.650420Z",
     "iopub.status.busy": "2024-03-25T00:04:15.649970Z",
     "iopub.status.idle": "2024-03-25T00:04:15.659280Z",
     "shell.execute_reply": "2024-03-25T00:04:15.658201Z"
    },
    "papermill": {
     "duration": 0.035035,
     "end_time": "2024-03-25T00:04:15.661580",
     "exception": false,
     "start_time": "2024-03-25T00:04:15.626545",
     "status": "completed"
    },
    "tags": []
   },
   "outputs": [
    {
     "data": {
      "text/plain": [
       "numeric_ticket\n",
       "1    661\n",
       "0    230\n",
       "Name: count, dtype: int64"
      ]
     },
     "execution_count": 23,
     "metadata": {},
     "output_type": "execute_result"
    }
   ],
   "source": [
    "training.numeric_ticket.value_counts()"
   ]
  },
  {
   "cell_type": "markdown",
   "id": "ca91450b",
   "metadata": {
    "papermill": {
     "duration": 0.021948,
     "end_time": "2024-03-25T00:04:15.705636",
     "exception": false,
     "start_time": "2024-03-25T00:04:15.683688",
     "status": "completed"
    },
    "tags": []
   },
   "source": [
    "Above: most have a purely numeric ticket code but around 25% have letters, explored below"
   ]
  },
  {
   "cell_type": "code",
   "execution_count": 24,
   "id": "2abcbfbb",
   "metadata": {
    "execution": {
     "iopub.execute_input": "2024-03-25T00:04:15.751481Z",
     "iopub.status.busy": "2024-03-25T00:04:15.751101Z",
     "iopub.status.idle": "2024-03-25T00:04:15.760181Z",
     "shell.execute_reply": "2024-03-25T00:04:15.759085Z"
    },
    "papermill": {
     "duration": 0.034863,
     "end_time": "2024-03-25T00:04:15.762597",
     "exception": false,
     "start_time": "2024-03-25T00:04:15.727734",
     "status": "completed"
    },
    "tags": []
   },
   "outputs": [
    {
     "data": {
      "text/plain": [
       "ticket_letters\n",
       "0            665\n",
       "pc            60\n",
       "ca            41\n",
       "a5            21\n",
       "stono2        18\n",
       "sotonoq       15\n",
       "scparis       11\n",
       "wc            10\n",
       "a4             7\n",
       "soc            6\n",
       "fcc            5\n",
       "c              5\n",
       "sopp           3\n",
       "pp             3\n",
       "wep            3\n",
       "ppp            2\n",
       "scah           2\n",
       "sotono2        2\n",
       "swpp           2\n",
       "fc             1\n",
       "scahbasle      1\n",
       "as             1\n",
       "sp             1\n",
       "sc             1\n",
       "scow           1\n",
       "fa             1\n",
       "sop            1\n",
       "sca4           1\n",
       "casoton        1\n",
       "Name: count, dtype: int64"
      ]
     },
     "execution_count": 24,
     "metadata": {},
     "output_type": "execute_result"
    }
   ],
   "source": [
    "training.ticket_letters.value_counts()"
   ]
  },
  {
   "cell_type": "markdown",
   "id": "069ae50c",
   "metadata": {
    "papermill": {
     "duration": 0.021893,
     "end_time": "2024-03-25T00:04:15.806886",
     "exception": false,
     "start_time": "2024-03-25T00:04:15.784993",
     "status": "completed"
    },
    "tags": []
   },
   "source": [
    "Nothing really standing out from these letters, soton appears a lot because it was the main point of embarkation but that's about it"
   ]
  },
  {
   "cell_type": "code",
   "execution_count": 25,
   "id": "07aa4728",
   "metadata": {
    "execution": {
     "iopub.execute_input": "2024-03-25T00:04:15.853610Z",
     "iopub.status.busy": "2024-03-25T00:04:15.852960Z",
     "iopub.status.idle": "2024-03-25T00:04:15.868912Z",
     "shell.execute_reply": "2024-03-25T00:04:15.867763Z"
    },
    "papermill": {
     "duration": 0.04211,
     "end_time": "2024-03-25T00:04:15.871232",
     "exception": false,
     "start_time": "2024-03-25T00:04:15.829122",
     "status": "completed"
    },
    "tags": []
   },
   "outputs": [
    {
     "data": {
      "text/html": [
       "<div>\n",
       "<style scoped>\n",
       "    .dataframe tbody tr th:only-of-type {\n",
       "        vertical-align: middle;\n",
       "    }\n",
       "\n",
       "    .dataframe tbody tr th {\n",
       "        vertical-align: top;\n",
       "    }\n",
       "\n",
       "    .dataframe thead th {\n",
       "        text-align: right;\n",
       "    }\n",
       "</style>\n",
       "<table border=\"1\" class=\"dataframe\">\n",
       "  <thead>\n",
       "    <tr style=\"text-align: right;\">\n",
       "      <th>numeric_ticket</th>\n",
       "      <th>0</th>\n",
       "      <th>1</th>\n",
       "    </tr>\n",
       "    <tr>\n",
       "      <th>Survived</th>\n",
       "      <th></th>\n",
       "      <th></th>\n",
       "    </tr>\n",
       "  </thead>\n",
       "  <tbody>\n",
       "    <tr>\n",
       "      <th>0</th>\n",
       "      <td>142</td>\n",
       "      <td>407</td>\n",
       "    </tr>\n",
       "    <tr>\n",
       "      <th>1</th>\n",
       "      <td>88</td>\n",
       "      <td>254</td>\n",
       "    </tr>\n",
       "  </tbody>\n",
       "</table>\n",
       "</div>"
      ],
      "text/plain": [
       "numeric_ticket    0    1\n",
       "Survived                \n",
       "0               142  407\n",
       "1                88  254"
      ]
     },
     "execution_count": 25,
     "metadata": {},
     "output_type": "execute_result"
    }
   ],
   "source": [
    "# did the numeric ticket have an impact on survival rate?\n",
    "pd.pivot_table(training,index='Survived', columns='numeric_ticket', values='Ticket', aggfunc='count')"
   ]
  },
  {
   "cell_type": "code",
   "execution_count": 26,
   "id": "718f9159",
   "metadata": {
    "execution": {
     "iopub.execute_input": "2024-03-25T00:04:15.918577Z",
     "iopub.status.busy": "2024-03-25T00:04:15.917486Z",
     "iopub.status.idle": "2024-03-25T00:04:15.954892Z",
     "shell.execute_reply": "2024-03-25T00:04:15.953800Z"
    },
    "papermill": {
     "duration": 0.063869,
     "end_time": "2024-03-25T00:04:15.957405",
     "exception": false,
     "start_time": "2024-03-25T00:04:15.893536",
     "status": "completed"
    },
    "tags": []
   },
   "outputs": [
    {
     "data": {
      "text/html": [
       "<div>\n",
       "<style scoped>\n",
       "    .dataframe tbody tr th:only-of-type {\n",
       "        vertical-align: middle;\n",
       "    }\n",
       "\n",
       "    .dataframe tbody tr th {\n",
       "        vertical-align: top;\n",
       "    }\n",
       "\n",
       "    .dataframe thead th {\n",
       "        text-align: right;\n",
       "    }\n",
       "</style>\n",
       "<table border=\"1\" class=\"dataframe\">\n",
       "  <thead>\n",
       "    <tr style=\"text-align: right;\">\n",
       "      <th>ticket_letters</th>\n",
       "      <th>0</th>\n",
       "      <th>a4</th>\n",
       "      <th>a5</th>\n",
       "      <th>as</th>\n",
       "      <th>c</th>\n",
       "      <th>ca</th>\n",
       "      <th>casoton</th>\n",
       "      <th>fa</th>\n",
       "      <th>fc</th>\n",
       "      <th>fcc</th>\n",
       "      <th>...</th>\n",
       "      <th>soc</th>\n",
       "      <th>sop</th>\n",
       "      <th>sopp</th>\n",
       "      <th>sotono2</th>\n",
       "      <th>sotonoq</th>\n",
       "      <th>sp</th>\n",
       "      <th>stono2</th>\n",
       "      <th>swpp</th>\n",
       "      <th>wc</th>\n",
       "      <th>wep</th>\n",
       "    </tr>\n",
       "    <tr>\n",
       "      <th>Survived</th>\n",
       "      <th></th>\n",
       "      <th></th>\n",
       "      <th></th>\n",
       "      <th></th>\n",
       "      <th></th>\n",
       "      <th></th>\n",
       "      <th></th>\n",
       "      <th></th>\n",
       "      <th></th>\n",
       "      <th></th>\n",
       "      <th></th>\n",
       "      <th></th>\n",
       "      <th></th>\n",
       "      <th></th>\n",
       "      <th></th>\n",
       "      <th></th>\n",
       "      <th></th>\n",
       "      <th></th>\n",
       "      <th></th>\n",
       "      <th></th>\n",
       "      <th></th>\n",
       "    </tr>\n",
       "  </thead>\n",
       "  <tbody>\n",
       "    <tr>\n",
       "      <th>0</th>\n",
       "      <td>410.0</td>\n",
       "      <td>7.0</td>\n",
       "      <td>19.0</td>\n",
       "      <td>1.0</td>\n",
       "      <td>3.0</td>\n",
       "      <td>27.0</td>\n",
       "      <td>1.0</td>\n",
       "      <td>1.0</td>\n",
       "      <td>1.0</td>\n",
       "      <td>1.0</td>\n",
       "      <td>...</td>\n",
       "      <td>5.0</td>\n",
       "      <td>1.0</td>\n",
       "      <td>3.0</td>\n",
       "      <td>2.0</td>\n",
       "      <td>13.0</td>\n",
       "      <td>1.0</td>\n",
       "      <td>10.0</td>\n",
       "      <td>NaN</td>\n",
       "      <td>9.0</td>\n",
       "      <td>2.0</td>\n",
       "    </tr>\n",
       "    <tr>\n",
       "      <th>1</th>\n",
       "      <td>255.0</td>\n",
       "      <td>NaN</td>\n",
       "      <td>2.0</td>\n",
       "      <td>NaN</td>\n",
       "      <td>2.0</td>\n",
       "      <td>14.0</td>\n",
       "      <td>NaN</td>\n",
       "      <td>NaN</td>\n",
       "      <td>NaN</td>\n",
       "      <td>4.0</td>\n",
       "      <td>...</td>\n",
       "      <td>1.0</td>\n",
       "      <td>NaN</td>\n",
       "      <td>NaN</td>\n",
       "      <td>NaN</td>\n",
       "      <td>2.0</td>\n",
       "      <td>NaN</td>\n",
       "      <td>8.0</td>\n",
       "      <td>2.0</td>\n",
       "      <td>1.0</td>\n",
       "      <td>1.0</td>\n",
       "    </tr>\n",
       "  </tbody>\n",
       "</table>\n",
       "<p>2 rows × 29 columns</p>\n",
       "</div>"
      ],
      "text/plain": [
       "ticket_letters      0   a4    a5   as    c    ca  casoton   fa   fc  fcc  ...  \\\n",
       "Survived                                                                  ...   \n",
       "0               410.0  7.0  19.0  1.0  3.0  27.0      1.0  1.0  1.0  1.0  ...   \n",
       "1               255.0  NaN   2.0  NaN  2.0  14.0      NaN  NaN  NaN  4.0  ...   \n",
       "\n",
       "ticket_letters  soc  sop  sopp  sotono2  sotonoq   sp  stono2  swpp   wc  wep  \n",
       "Survived                                                                       \n",
       "0               5.0  1.0   3.0      2.0     13.0  1.0    10.0   NaN  9.0  2.0  \n",
       "1               1.0  NaN   NaN      NaN      2.0  NaN     8.0   2.0  1.0  1.0  \n",
       "\n",
       "[2 rows x 29 columns]"
      ]
     },
     "execution_count": 26,
     "metadata": {},
     "output_type": "execute_result"
    }
   ],
   "source": [
    "pd.pivot_table(training, index=\"Survived\", columns=\"ticket_letters\", values=\"Ticket\", aggfunc=\"count\")"
   ]
  },
  {
   "cell_type": "markdown",
   "id": "5f2e3d62",
   "metadata": {
    "papermill": {
     "duration": 0.02323,
     "end_time": "2024-03-25T00:04:16.004164",
     "exception": false,
     "start_time": "2024-03-25T00:04:15.980934",
     "status": "completed"
    },
    "tags": []
   },
   "source": [
    "No real intelligence from the above^"
   ]
  },
  {
   "cell_type": "code",
   "execution_count": 27,
   "id": "909b1ca5",
   "metadata": {
    "execution": {
     "iopub.execute_input": "2024-03-25T00:04:16.053206Z",
     "iopub.status.busy": "2024-03-25T00:04:16.052783Z",
     "iopub.status.idle": "2024-03-25T00:04:16.060209Z",
     "shell.execute_reply": "2024-03-25T00:04:16.059086Z"
    },
    "papermill": {
     "duration": 0.034469,
     "end_time": "2024-03-25T00:04:16.062612",
     "exception": false,
     "start_time": "2024-03-25T00:04:16.028143",
     "status": "completed"
    },
    "tags": []
   },
   "outputs": [],
   "source": [
    "# what about titles of people?\n",
    "training['salutation'] = training.Name.apply(lambda x: x.split(',')[1].split('.')[0].strip())\n",
    "# split(,)[1] because the names always start with the surname, we take after the comma e.g. Doherty, MR. THOMAS\n",
    "#split(.)[0] because the salutation is the first section of [1] already taken e.g. MR. Thomas"
   ]
  },
  {
   "cell_type": "code",
   "execution_count": 28,
   "id": "8152db7c",
   "metadata": {
    "execution": {
     "iopub.execute_input": "2024-03-25T00:04:16.111954Z",
     "iopub.status.busy": "2024-03-25T00:04:16.111503Z",
     "iopub.status.idle": "2024-03-25T00:04:16.121329Z",
     "shell.execute_reply": "2024-03-25T00:04:16.120182Z"
    },
    "papermill": {
     "duration": 0.037347,
     "end_time": "2024-03-25T00:04:16.123784",
     "exception": false,
     "start_time": "2024-03-25T00:04:16.086437",
     "status": "completed"
    },
    "tags": []
   },
   "outputs": [
    {
     "data": {
      "text/plain": [
       "salutation\n",
       "Mr              517\n",
       "Miss            182\n",
       "Mrs             125\n",
       "Master           40\n",
       "Dr                7\n",
       "Rev               6\n",
       "Mlle              2\n",
       "Major             2\n",
       "Col               2\n",
       "the Countess      1\n",
       "Capt              1\n",
       "Ms                1\n",
       "Sir               1\n",
       "Lady              1\n",
       "Mme               1\n",
       "Don               1\n",
       "Jonkheer          1\n",
       "Name: count, dtype: int64"
      ]
     },
     "execution_count": 28,
     "metadata": {},
     "output_type": "execute_result"
    }
   ],
   "source": [
    "training[\"salutation\"].value_counts()"
   ]
  },
  {
   "cell_type": "markdown",
   "id": "fbfca927",
   "metadata": {
    "papermill": {
     "duration": 0.023541,
     "end_time": "2024-03-25T00:04:16.170619",
     "exception": false,
     "start_time": "2024-03-25T00:04:16.147078",
     "status": "completed"
    },
    "tags": []
   },
   "source": [
    "# What does preprocessing for a model look like?\n",
    "\n",
    "Preprocessing of the data set to do:\n",
    "* Drop null values, for example a couple in Embarked\n",
    "* include only relevant variables, drop passenger ID & Name. Important variables may be Pclass, Sex, Age, SibSp, Parch, Fare, Embarked, cabin_cat, cabin_multiple, numeric_ticket, salutation\n",
    "* categorical transforms (get dummies from Pandas) e.g. for each individual cabin type A - G it must be turned into a binary 0 or 1 if a passenger was in a particular cabin type. that's how the model can incorporate categorical variables\n",
    "* provide a mean value for fare and age\n",
    "* normalize fare using logarithm (??)"
   ]
  },
  {
   "cell_type": "code",
   "execution_count": 29,
   "id": "adb5f82c",
   "metadata": {
    "execution": {
     "iopub.execute_input": "2024-03-25T00:04:16.220194Z",
     "iopub.status.busy": "2024-03-25T00:04:16.219764Z",
     "iopub.status.idle": "2024-03-25T00:04:16.592641Z",
     "shell.execute_reply": "2024-03-25T00:04:16.591342Z"
    },
    "papermill": {
     "duration": 0.401159,
     "end_time": "2024-03-25T00:04:16.595415",
     "exception": false,
     "start_time": "2024-03-25T00:04:16.194256",
     "status": "completed"
    },
    "tags": []
   },
   "outputs": [
    {
     "data": {
      "text/plain": [
       "(889,)"
      ]
     },
     "execution_count": 29,
     "metadata": {},
     "output_type": "execute_result"
    },
    {
     "data": {
      "image/png": "[encoded data removed]",
      "text/plain": [
       "<Figure size 640x480 with 1 Axes>"
      ]
     },
     "metadata": {},
     "output_type": "display_data"
    }
   ],
   "source": [
    "all_data['cabin_multiple'] = all_data.Cabin.apply(lambda x: 0 if pd.isna(x) else len(x.split(' ')))\n",
    "all_data['cabin_cat'] = all_data.Cabin.apply(lambda x: str(x)[0]) #getting the 0th index of the string of cabin category e.g. the letter A-G\n",
    "all_data['numeric_ticket'] = all_data.Ticket.apply(lambda x: 1 if x.isnumeric() else 0) # if the ticket is purely numeric\n",
    "all_data['ticket_letters'] = all_data.Ticket.apply(lambda x: ''.join(x.split(' ')[:-1]).replace('.','').replace('/','').lower() if len(x.split(' ')[:-1]) >0 else 0)\n",
    "# ^ this line: create one string of the letters in the ticket code without spaces or . or / before the numeric code at the end of the ticket code\n",
    "all_data['salutation'] = all_data.Name.apply(lambda x: x.split(',')[1].split('.')[0].strip())\n",
    "# ^ this line: names are written out as Doherty, Mr. Thomas so we split and take after the comma, then split and take before the full stop for the salutation\n",
    "\n",
    "# add mean value where there's gaps in data\n",
    "all_data.Age = all_data.Age.fillna(training.Age.mean())\n",
    "all_data.Fare = all_data.Fare.fillna(training.Fare.mean())\n",
    "# when data isn't normally distributed, you might want to use the median and not the mean\n",
    "\n",
    "# drop the null embarked x 2 in training\n",
    "all_data.dropna(subset=['Embarked'], inplace = True)\n",
    "\n",
    "# normalize the fare with logarithm\n",
    "all_data['norm_fare'] = np.log(all_data.Fare+1)\n",
    "all_data['norm_fare'].hist()\n",
    "\n",
    "#class converted to category\n",
    "all_data.Pclass = all_data.Pclass.astype(str)\n",
    "\n",
    "#created dummy variables from categories\n",
    "all_dummies = pd.get_dummies(all_data[['Pclass', 'Sex', 'Age', 'SibSp', 'Parch', 'norm_fare', 'Embarked', 'cabin_cat', 'cabin_multiple', 'numeric_ticket', 'salutation', 'train_test']])\n",
    "\n",
    "# preprocessing complete, split out training vs testing again back to original and drop the train_test category, it was just used to sort them anyway\n",
    "X_train = all_dummies[all_dummies.train_test == 1].drop(['train_test'], axis = 1)\n",
    "X_test = all_dummies[all_dummies.train_test == 0].drop(['train_test'], axis = 1)\n",
    "\n",
    "y_train = all_data[all_data.train_test == 1].Survived\n",
    "y_train.shape\n"
   ]
  },
  {
   "cell_type": "code",
   "execution_count": 30,
   "id": "bb38663c",
   "metadata": {
    "execution": {
     "iopub.execute_input": "2024-03-25T00:04:16.647087Z",
     "iopub.status.busy": "2024-03-25T00:04:16.645894Z",
     "iopub.status.idle": "2024-03-25T00:04:16.833881Z",
     "shell.execute_reply": "2024-03-25T00:04:16.832698Z"
    },
    "papermill": {
     "duration": 0.216909,
     "end_time": "2024-03-25T00:04:16.836785",
     "exception": false,
     "start_time": "2024-03-25T00:04:16.619876",
     "status": "completed"
    },
    "tags": []
   },
   "outputs": [],
   "source": [
    "# scaling the data\n",
    "from sklearn.preprocessing import StandardScaler\n",
    "scale = StandardScaler()\n",
    "all_dummies_scaled = all_dummies.copy()\n",
    "all_dummies_scaled[['Age', 'SibSp', 'Parch', 'norm_fare']] = scale.fit_transform(all_dummies_scaled[['Age', 'SibSp', 'Parch', 'norm_fare']])\n",
    "all_dummies_scaled\n",
    "\n",
    "X_train_scaled = all_dummies_scaled[all_dummies_scaled.train_test == 1].drop(['train_test'], axis = 1) # the training data scaled\n",
    "X_test_scaled = all_dummies_scaled[all_dummies_scaled.train_test == 0].drop(['train_test'], axis = 1) # the testing data scaled\n",
    "\n",
    "y_train = all_data[all_data.train_test == 1].Survived # this is the survived column of the training data\n"
   ]
  },
  {
   "cell_type": "markdown",
   "id": "6c41760e",
   "metadata": {
    "papermill": {
     "duration": 0.023911,
     "end_time": "2024-03-25T00:04:16.884597",
     "exception": false,
     "start_time": "2024-03-25T00:04:16.860686",
     "status": "completed"
    },
    "tags": []
   },
   "source": [
    "A few models being tried out: Naive Bayes, Logistic Regression, Decision Tree and Random Forests, K Nearest Neighbour (?), Support Vector Classifier,  Xtreme Gradient Boosting, Soft Voting Classifier"
   ]
  },
  {
   "cell_type": "code",
   "execution_count": 31,
   "id": "f8492537",
   "metadata": {
    "execution": {
     "iopub.execute_input": "2024-03-25T00:04:16.935187Z",
     "iopub.status.busy": "2024-03-25T00:04:16.934726Z",
     "iopub.status.idle": "2024-03-25T00:04:17.304662Z",
     "shell.execute_reply": "2024-03-25T00:04:17.303470Z"
    },
    "papermill": {
     "duration": 0.398394,
     "end_time": "2024-03-25T00:04:17.307450",
     "exception": false,
     "start_time": "2024-03-25T00:04:16.909056",
     "status": "completed"
    },
    "tags": []
   },
   "outputs": [],
   "source": [
    "from sklearn.model_selection import cross_val_score\n",
    "from sklearn.naive_bayes import GaussianNB\n",
    "from sklearn.linear_model import LogisticRegression\n",
    "from sklearn import tree\n",
    "from sklearn.neighbors import KNeighborsClassifier\n",
    "from sklearn.ensemble import RandomForestClassifier\n",
    "from sklearn.svm import SVC"
   ]
  },
  {
   "cell_type": "code",
   "execution_count": 32,
   "id": "2c3aeaa8",
   "metadata": {
    "execution": {
     "iopub.execute_input": "2024-03-25T00:04:17.359254Z",
     "iopub.status.busy": "2024-03-25T00:04:17.358825Z",
     "iopub.status.idle": "2024-03-25T00:04:17.405305Z",
     "shell.execute_reply": "2024-03-25T00:04:17.404438Z"
    },
    "papermill": {
     "duration": 0.073917,
     "end_time": "2024-03-25T00:04:17.407452",
     "exception": false,
     "start_time": "2024-03-25T00:04:17.333535",
     "status": "completed"
    },
    "tags": []
   },
   "outputs": [
    {
     "name": "stdout",
     "output_type": "stream",
     "text": [
      "[0.66853933 0.70224719 0.75842697 0.74719101 0.73446328]\n",
      "0.7221735542436362\n"
     ]
    }
   ],
   "source": [
    "#Naive Bayes\n",
    "gnb = GaussianNB()\n",
    "cv = cross_val_score(gnb, X_train_scaled, y_train, cv=5)\n",
    "print(cv)\n",
    "print(cv.mean())"
   ]
  },
  {
   "cell_type": "code",
   "execution_count": 33,
   "id": "7c04036d",
   "metadata": {
    "execution": {
     "iopub.execute_input": "2024-03-25T00:04:17.459377Z",
     "iopub.status.busy": "2024-03-25T00:04:17.458522Z",
     "iopub.status.idle": "2024-03-25T00:04:18.338644Z",
     "shell.execute_reply": "2024-03-25T00:04:18.337189Z"
    },
    "papermill": {
     "duration": 0.913373,
     "end_time": "2024-03-25T00:04:18.344607",
     "exception": false,
     "start_time": "2024-03-25T00:04:17.431234",
     "status": "completed"
    },
    "tags": []
   },
   "outputs": [
    {
     "name": "stdout",
     "output_type": "stream",
     "text": [
      "[0.82022472 0.80898876 0.80337079 0.82022472 0.85310734]\n",
      "0.8211832666793626\n"
     ]
    }
   ],
   "source": [
    "# logistic regression\n",
    "lr = LogisticRegression(max_iter = 2000)\n",
    "cv = cross_val_score(lr, X_train, y_train, cv = 5)\n",
    "print(cv)\n",
    "print(cv.mean())"
   ]
  },
  {
   "cell_type": "code",
   "execution_count": 34,
   "id": "2cc45a0b",
   "metadata": {
    "execution": {
     "iopub.execute_input": "2024-03-25T00:04:18.449345Z",
     "iopub.status.busy": "2024-03-25T00:04:18.448904Z",
     "iopub.status.idle": "2024-03-25T00:04:18.671674Z",
     "shell.execute_reply": "2024-03-25T00:04:18.670193Z"
    },
    "papermill": {
     "duration": 0.279719,
     "end_time": "2024-03-25T00:04:18.676303",
     "exception": false,
     "start_time": "2024-03-25T00:04:18.396584",
     "status": "completed"
    },
    "tags": []
   },
   "outputs": [
    {
     "name": "stdout",
     "output_type": "stream",
     "text": [
      "[0.82022472 0.80898876 0.80337079 0.82022472 0.85310734]\n",
      "0.8211832666793626\n"
     ]
    }
   ],
   "source": [
    "# logistic regression - appears that scaled X_training data has no effect\n",
    "lr = LogisticRegression(max_iter = 2000)\n",
    "cv = cross_val_score(lr, X_train_scaled, y_train, cv = 5)\n",
    "print(cv)\n",
    "print(cv.mean())"
   ]
  },
  {
   "cell_type": "code",
   "execution_count": 35,
   "id": "2aa87049",
   "metadata": {
    "execution": {
     "iopub.execute_input": "2024-03-25T00:04:18.782637Z",
     "iopub.status.busy": "2024-03-25T00:04:18.782236Z",
     "iopub.status.idle": "2024-03-25T00:04:18.843181Z",
     "shell.execute_reply": "2024-03-25T00:04:18.841787Z"
    },
    "papermill": {
     "duration": 0.117133,
     "end_time": "2024-03-25T00:04:18.845654",
     "exception": false,
     "start_time": "2024-03-25T00:04:18.728521",
     "status": "completed"
    },
    "tags": []
   },
   "outputs": [
    {
     "name": "stdout",
     "output_type": "stream",
     "text": [
      "[0.74719101 0.74157303 0.80898876 0.75842697 0.82485876]\n",
      "0.776207706468609\n"
     ]
    }
   ],
   "source": [
    "#decision tree\n",
    "dt = tree.DecisionTreeClassifier(random_state = 1)\n",
    "cv = cross_val_score(dt, X_train, y_train, cv = 5)\n",
    "print(cv)\n",
    "print(cv.mean())\n"
   ]
  },
  {
   "cell_type": "code",
   "execution_count": 36,
   "id": "3d22de32",
   "metadata": {
    "execution": {
     "iopub.execute_input": "2024-03-25T00:04:18.897405Z",
     "iopub.status.busy": "2024-03-25T00:04:18.896334Z",
     "iopub.status.idle": "2024-03-25T00:04:18.955672Z",
     "shell.execute_reply": "2024-03-25T00:04:18.954357Z"
    },
    "papermill": {
     "duration": 0.088079,
     "end_time": "2024-03-25T00:04:18.958217",
     "exception": false,
     "start_time": "2024-03-25T00:04:18.870138",
     "status": "completed"
    },
    "tags": []
   },
   "outputs": [
    {
     "name": "stdout",
     "output_type": "stream",
     "text": [
      "[0.74719101 0.74157303 0.80898876 0.75280899 0.81920904]\n",
      "0.7739541674601662\n"
     ]
    }
   ],
   "source": [
    "#decision tree scaled\n",
    "dt = tree.DecisionTreeClassifier(random_state = 1)\n",
    "cv = cross_val_score(dt, X_train_scaled, y_train, cv = 5)\n",
    "print(cv)\n",
    "print(cv.mean())"
   ]
  },
  {
   "cell_type": "code",
   "execution_count": 37,
   "id": "fd2008c4",
   "metadata": {
    "execution": {
     "iopub.execute_input": "2024-03-25T00:04:19.008694Z",
     "iopub.status.busy": "2024-03-25T00:04:19.008321Z",
     "iopub.status.idle": "2024-03-25T00:04:19.195533Z",
     "shell.execute_reply": "2024-03-25T00:04:19.194209Z"
    },
    "papermill": {
     "duration": 0.215865,
     "end_time": "2024-03-25T00:04:19.198155",
     "exception": false,
     "start_time": "2024-03-25T00:04:18.982290",
     "status": "completed"
    },
    "tags": []
   },
   "outputs": [
    {
     "name": "stdout",
     "output_type": "stream",
     "text": [
      "[0.76966292 0.80898876 0.80337079 0.81460674 0.83615819]\n",
      "0.8065574811147084\n"
     ]
    }
   ],
   "source": [
    "# k nearest neighbor\n",
    "knn = KNeighborsClassifier()\n",
    "cv = cross_val_score(knn, X_train, y_train, cv = 5)\n",
    "print(cv)\n",
    "print(cv.mean())"
   ]
  },
  {
   "cell_type": "code",
   "execution_count": 38,
   "id": "c9e670a2",
   "metadata": {
    "execution": {
     "iopub.execute_input": "2024-03-25T00:04:19.249217Z",
     "iopub.status.busy": "2024-03-25T00:04:19.248793Z",
     "iopub.status.idle": "2024-03-25T00:04:19.372884Z",
     "shell.execute_reply": "2024-03-25T00:04:19.371444Z"
    },
    "papermill": {
     "duration": 0.152742,
     "end_time": "2024-03-25T00:04:19.375564",
     "exception": false,
     "start_time": "2024-03-25T00:04:19.222822",
     "status": "completed"
    },
    "tags": []
   },
   "outputs": [
    {
     "name": "stdout",
     "output_type": "stream",
     "text": [
      "[0.79775281 0.79213483 0.83146067 0.80337079 0.85310734]\n",
      "0.8155652891512728\n"
     ]
    }
   ],
   "source": [
    "# k nearest neighbor scaled\n",
    "knn = KNeighborsClassifier()\n",
    "cv = cross_val_score(knn, X_train_scaled, y_train, cv = 5)\n",
    "print(cv)\n",
    "print(cv.mean())"
   ]
  },
  {
   "cell_type": "code",
   "execution_count": 39,
   "id": "b07ca1d9",
   "metadata": {
    "execution": {
     "iopub.execute_input": "2024-03-25T00:04:19.426748Z",
     "iopub.status.busy": "2024-03-25T00:04:19.425927Z",
     "iopub.status.idle": "2024-03-25T00:04:20.907552Z",
     "shell.execute_reply": "2024-03-25T00:04:20.906426Z"
    },
    "papermill": {
     "duration": 1.509777,
     "end_time": "2024-03-25T00:04:20.910090",
     "exception": false,
     "start_time": "2024-03-25T00:04:19.400313",
     "status": "completed"
    },
    "tags": []
   },
   "outputs": [
    {
     "name": "stdout",
     "output_type": "stream",
     "text": [
      "[0.82022472 0.78651685 0.85393258 0.73033708 0.84180791]\n",
      "0.8065638291119152\n"
     ]
    }
   ],
   "source": [
    "rf = RandomForestClassifier(random_state = 1)\n",
    "cv = cross_val_score(rf, X_train, y_train, cv = 5)\n",
    "print(cv)\n",
    "print(cv.mean())"
   ]
  },
  {
   "cell_type": "code",
   "execution_count": 40,
   "id": "fb4fbaf9",
   "metadata": {
    "execution": {
     "iopub.execute_input": "2024-03-25T00:04:20.961589Z",
     "iopub.status.busy": "2024-03-25T00:04:20.961199Z",
     "iopub.status.idle": "2024-03-25T00:04:22.442822Z",
     "shell.execute_reply": "2024-03-25T00:04:22.441414Z"
    },
    "papermill": {
     "duration": 1.509777,
     "end_time": "2024-03-25T00:04:22.445090",
     "exception": false,
     "start_time": "2024-03-25T00:04:20.935313",
     "status": "completed"
    },
    "tags": []
   },
   "outputs": [
    {
     "name": "stdout",
     "output_type": "stream",
     "text": [
      "[0.81460674 0.78651685 0.85393258 0.73033708 0.84180791]\n",
      "0.8054402336062972\n"
     ]
    }
   ],
   "source": [
    "rf = RandomForestClassifier(random_state = 1)\n",
    "cv = cross_val_score(rf, X_train_scaled, y_train, cv = 5)\n",
    "print(cv)\n",
    "print(cv.mean())"
   ]
  },
  {
   "cell_type": "code",
   "execution_count": 41,
   "id": "46acf7c3",
   "metadata": {
    "execution": {
     "iopub.execute_input": "2024-03-25T00:04:22.497512Z",
     "iopub.status.busy": "2024-03-25T00:04:22.496974Z",
     "iopub.status.idle": "2024-03-25T00:04:23.097954Z",
     "shell.execute_reply": "2024-03-25T00:04:23.096503Z"
    },
    "papermill": {
     "duration": 0.630188,
     "end_time": "2024-03-25T00:04:23.100263",
     "exception": false,
     "start_time": "2024-03-25T00:04:22.470075",
     "status": "completed"
    },
    "tags": []
   },
   "outputs": [
    {
     "name": "stdout",
     "output_type": "stream",
     "text": [
      "[0.84831461 0.82022472 0.8258427  0.80337079 0.86440678]\n",
      "0.8324319177299563\n"
     ]
    }
   ],
   "source": [
    "#SVC without scaling data was 73% - poor, scaled is 83%\n",
    "svc = SVC(probability = True)\n",
    "cv = cross_val_score(svc, X_train_scaled, y_train, cv = 5)\n",
    "print(cv)\n",
    "print(cv.mean())"
   ]
  },
  {
   "cell_type": "code",
   "execution_count": 42,
   "id": "a05787b7",
   "metadata": {
    "execution": {
     "iopub.execute_input": "2024-03-25T00:04:23.151689Z",
     "iopub.status.busy": "2024-03-25T00:04:23.150667Z",
     "iopub.status.idle": "2024-03-25T00:04:24.026119Z",
     "shell.execute_reply": "2024-03-25T00:04:24.025100Z"
    },
    "papermill": {
     "duration": 0.903842,
     "end_time": "2024-03-25T00:04:24.028833",
     "exception": false,
     "start_time": "2024-03-25T00:04:23.124991",
     "status": "completed"
    },
    "tags": []
   },
   "outputs": [
    {
     "name": "stdout",
     "output_type": "stream",
     "text": [
      "[0.81460674 0.79775281 0.85955056 0.79775281 0.81355932]\n",
      "0.8166444486764426\n"
     ]
    }
   ],
   "source": [
    "from xgboost import XGBClassifier\n",
    "xgb = XGBClassifier(random_state = 1)\n",
    "cv = cross_val_score(xgb, X_train_scaled, y_train, cv = 5)\n",
    "print(cv)\n",
    "print(cv.mean())"
   ]
  },
  {
   "cell_type": "code",
   "execution_count": 43,
   "id": "c5884ee1",
   "metadata": {
    "execution": {
     "iopub.execute_input": "2024-03-25T00:04:24.081745Z",
     "iopub.status.busy": "2024-03-25T00:04:24.081314Z",
     "iopub.status.idle": "2024-03-25T00:04:24.088811Z",
     "shell.execute_reply": "2024-03-25T00:04:24.087254Z"
    },
    "papermill": {
     "duration": 0.037039,
     "end_time": "2024-03-25T00:04:24.091901",
     "exception": false,
     "start_time": "2024-03-25T00:04:24.054862",
     "status": "completed"
    },
    "tags": []
   },
   "outputs": [],
   "source": [
    "# voting classifier can be HARD or SOFT. Hard will give a YES or NO (1 or 0) vote and \n",
    "# then it's just a popular vote (i.e. each model saying survive or not survive)\n",
    "# SOFT averages each model, if average confidence is >50% it registers a yes (1) and will do this to predict the survival of each passenger\n",
    "\n",
    "from sklearn.ensemble import VotingClassifier\n",
    "voting_clf = VotingClassifier(estimators = [('lr', lr),('gnb', gnb), ('knn', knn), ('rf', rf),('svc', svc), ('xgb', xgb)], voting = 'soft')"
   ]
  },
  {
   "cell_type": "code",
   "execution_count": 44,
   "id": "97e444e6",
   "metadata": {
    "execution": {
     "iopub.execute_input": "2024-03-25T00:04:24.143893Z",
     "iopub.status.busy": "2024-03-25T00:04:24.143075Z",
     "iopub.status.idle": "2024-03-25T00:04:27.578044Z",
     "shell.execute_reply": "2024-03-25T00:04:27.577090Z"
    },
    "papermill": {
     "duration": 3.464072,
     "end_time": "2024-03-25T00:04:27.580929",
     "exception": false,
     "start_time": "2024-03-25T00:04:24.116857",
     "status": "completed"
    },
    "tags": []
   },
   "outputs": [
    {
     "name": "stdout",
     "output_type": "stream",
     "text": [
      "[0.83146067 0.81460674 0.83146067 0.80337079 0.85310734]\n",
      "0.8268012442074527\n"
     ]
    }
   ],
   "source": [
    "cv = cross_val_score(voting_clf, X_train_scaled, y_train, cv = 5)\n",
    "print(cv)\n",
    "print(cv.mean())"
   ]
  },
  {
   "cell_type": "code",
   "execution_count": 45,
   "id": "3d60ec46",
   "metadata": {
    "execution": {
     "iopub.execute_input": "2024-03-25T00:04:27.633799Z",
     "iopub.status.busy": "2024-03-25T00:04:27.633151Z",
     "iopub.status.idle": "2024-03-25T00:04:27.907310Z",
     "shell.execute_reply": "2024-03-25T00:04:27.905995Z"
    },
    "papermill": {
     "duration": 0.302962,
     "end_time": "2024-03-25T00:04:27.909714",
     "exception": false,
     "start_time": "2024-03-25T00:04:27.606752",
     "status": "completed"
    },
    "tags": []
   },
   "outputs": [
    {
     "name": "stdout",
     "output_type": "stream",
     "text": [
      "Your Submission was successfully saved!\n"
     ]
    }
   ],
   "source": [
    "from sklearn.ensemble import RandomForestClassifier\n",
    "\n",
    "y = training[\"Survived\"]\n",
    "\n",
    "features = [\"Pclass\", \"Sex\", \"SibSp\", \"Parch\"]\n",
    "X = pd.get_dummies(training[features])\n",
    "X_test = pd.get_dummies(testing[features])\n",
    "\n",
    "model = RandomForestClassifier(n_estimators=100, max_depth=5, random_state=1)\n",
    "model.fit(X, y)\n",
    "predictions = model.predict(X_test)\n",
    "\n",
    "output = pd.DataFrame({'PassengerId': testing.PassengerId, 'Survived': predictions})\n",
    "output.to_csv('submission.csv', index=False)\n",
    "print(\"Your Submission was successfully saved!\")"
   ]
  }
 ],
 "metadata": {
  "kaggle": {
   "accelerator": "none",
   "dataSources": [
    {
     "databundleVersionId": 26502,
     "sourceId": 3136,
     "sourceType": "competition"
    }
   ],
   "dockerImageVersionId": 30664,
   "isGpuEnabled": false,
   "isInternetEnabled": true,
   "language": "python",
   "sourceType": "notebook"
  },
  "kernelspec": {
   "display_name": "Python 3",
   "language": "python",
   "name": "python3"
  },
  "language_info": {
   "codemirror_mode": {
    "name": "ipython",
    "version": 3
   },
   "file_extension": ".py",
   "mimetype": "text/x-python",
   "name": "python",
   "nbconvert_exporter": "python",
   "pygments_lexer": "ipython3",
   "version": "3.10.13"
  },
  "papermill": {
   "default_parameters": {},
   "duration": 30.647716,
   "end_time": "2024-03-25T00:04:28.657088",
   "environment_variables": {},
   "exception": null,
   "input_path": "__notebook__.ipynb",
   "output_path": "__notebook__.ipynb",
   "parameters": {},
   "start_time": "2024-03-25T00:03:58.009372",
   "version": "2.5.0"
  }
 },
 "nbformat": 4,
 "nbformat_minor": 5
}
